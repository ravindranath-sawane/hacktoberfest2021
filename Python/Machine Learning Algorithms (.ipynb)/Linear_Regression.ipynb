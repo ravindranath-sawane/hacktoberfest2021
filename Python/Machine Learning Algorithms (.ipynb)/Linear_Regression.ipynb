{
  "nbformat": 4,
  "nbformat_minor": 0,
  "metadata": {
    "colab": {
      "name": "Linear Regression.ipynb",
      "provenance": [],
      "collapsed_sections": []
    },
    "kernelspec": {
      "name": "python3",
      "display_name": "Python 3"
    }
  },
  "cells": [
    {
      "cell_type": "markdown",
      "metadata": {
        "id": "jbifAlk0udbY"
      },
      "source": [
        "#**Linear Regression**\n",
        "\n",
        "**Sheep's Wool Price Prediction**"
      ]
    },
    {
      "cell_type": "markdown",
      "metadata": {
        "id": "7jWaJOBP5nrD"
      },
      "source": [
        "#**Importing the libraries**"
      ]
    },
    {
      "cell_type": "code",
      "metadata": {
        "id": "50bKlOmCj-c6"
      },
      "source": [
        "import numpy as np\n",
        "import matplotlib.pyplot as plt\n",
        "import pandas as pd"
      ],
      "execution_count": null,
      "outputs": []
    },
    {
      "cell_type": "markdown",
      "metadata": {
        "id": "4IEHAA8858XM"
      },
      "source": [
        "#**Importing the dataset**"
      ]
    },
    {
      "cell_type": "code",
      "metadata": {
        "id": "m0hRr7-qkAv0",
        "colab": {
          "base_uri": "https://localhost:8080/",
          "height": 195
        },
        "outputId": "ea032338-f037-4b02-c7c6-54f573063b78"
      },
      "source": [
        "dataset= pd.read_csv('SheepWool.csv')\n",
        "X= dataset.iloc[:,:-1].values\n",
        "Y= dataset.iloc[:,1].values\n",
        "dataset.head()"
      ],
      "execution_count": null,
      "outputs": [
        {
          "output_type": "execute_result",
          "data": {
            "text/html": [
              "<div>\n",
              "<style scoped>\n",
              "    .dataframe tbody tr th:only-of-type {\n",
              "        vertical-align: middle;\n",
              "    }\n",
              "\n",
              "    .dataframe tbody tr th {\n",
              "        vertical-align: top;\n",
              "    }\n",
              "\n",
              "    .dataframe thead th {\n",
              "        text-align: right;\n",
              "    }\n",
              "</style>\n",
              "<table border=\"1\" class=\"dataframe\">\n",
              "  <thead>\n",
              "    <tr style=\"text-align: right;\">\n",
              "      <th></th>\n",
              "      <th>time</th>\n",
              "      <th>value</th>\n",
              "    </tr>\n",
              "  </thead>\n",
              "  <tbody>\n",
              "    <tr>\n",
              "      <th>0</th>\n",
              "      <td>1</td>\n",
              "      <td>0.1585</td>\n",
              "    </tr>\n",
              "    <tr>\n",
              "      <th>1</th>\n",
              "      <td>2</td>\n",
              "      <td>0.1668</td>\n",
              "    </tr>\n",
              "    <tr>\n",
              "      <th>2</th>\n",
              "      <td>3</td>\n",
              "      <td>0.1745</td>\n",
              "    </tr>\n",
              "    <tr>\n",
              "      <th>3</th>\n",
              "      <td>4</td>\n",
              "      <td>0.1553</td>\n",
              "    </tr>\n",
              "    <tr>\n",
              "      <th>4</th>\n",
              "      <td>5</td>\n",
              "      <td>0.1477</td>\n",
              "    </tr>\n",
              "  </tbody>\n",
              "</table>\n",
              "</div>"
            ],
            "text/plain": [
              "   time   value\n",
              "0     1  0.1585\n",
              "1     2  0.1668\n",
              "2     3  0.1745\n",
              "3     4  0.1553\n",
              "4     5  0.1477"
            ]
          },
          "metadata": {
            "tags": []
          },
          "execution_count": 23
        }
      ]
    },
    {
      "cell_type": "code",
      "metadata": {
        "id": "RrVem6LhoanH",
        "colab": {
          "base_uri": "https://localhost:8080/",
          "height": 284
        },
        "outputId": "1cea30af-b6c1-48ab-f8c7-a09f682b0dff"
      },
      "source": [
        "dataset.describe()"
      ],
      "execution_count": null,
      "outputs": [
        {
          "output_type": "execute_result",
          "data": {
            "text/html": [
              "<div>\n",
              "<style scoped>\n",
              "    .dataframe tbody tr th:only-of-type {\n",
              "        vertical-align: middle;\n",
              "    }\n",
              "\n",
              "    .dataframe tbody tr th {\n",
              "        vertical-align: top;\n",
              "    }\n",
              "\n",
              "    .dataframe thead th {\n",
              "        text-align: right;\n",
              "    }\n",
              "</style>\n",
              "<table border=\"1\" class=\"dataframe\">\n",
              "  <thead>\n",
              "    <tr style=\"text-align: right;\">\n",
              "      <th></th>\n",
              "      <th>time</th>\n",
              "      <th>value</th>\n",
              "    </tr>\n",
              "  </thead>\n",
              "  <tbody>\n",
              "    <tr>\n",
              "      <th>count</th>\n",
              "      <td>309.000000</td>\n",
              "      <td>309.000000</td>\n",
              "    </tr>\n",
              "    <tr>\n",
              "      <th>mean</th>\n",
              "      <td>155.000000</td>\n",
              "      <td>0.231603</td>\n",
              "    </tr>\n",
              "    <tr>\n",
              "      <th>std</th>\n",
              "      <td>89.344838</td>\n",
              "      <td>0.089566</td>\n",
              "    </tr>\n",
              "    <tr>\n",
              "      <th>min</th>\n",
              "      <td>1.000000</td>\n",
              "      <td>0.075000</td>\n",
              "    </tr>\n",
              "    <tr>\n",
              "      <th>25%</th>\n",
              "      <td>78.000000</td>\n",
              "      <td>0.145300</td>\n",
              "    </tr>\n",
              "    <tr>\n",
              "      <th>50%</th>\n",
              "      <td>155.000000</td>\n",
              "      <td>0.240800</td>\n",
              "    </tr>\n",
              "    <tr>\n",
              "      <th>75%</th>\n",
              "      <td>232.000000</td>\n",
              "      <td>0.280200</td>\n",
              "    </tr>\n",
              "    <tr>\n",
              "      <th>max</th>\n",
              "      <td>309.000000</td>\n",
              "      <td>0.472800</td>\n",
              "    </tr>\n",
              "  </tbody>\n",
              "</table>\n",
              "</div>"
            ],
            "text/plain": [
              "             time       value\n",
              "count  309.000000  309.000000\n",
              "mean   155.000000    0.231603\n",
              "std     89.344838    0.089566\n",
              "min      1.000000    0.075000\n",
              "25%     78.000000    0.145300\n",
              "50%    155.000000    0.240800\n",
              "75%    232.000000    0.280200\n",
              "max    309.000000    0.472800"
            ]
          },
          "metadata": {
            "tags": []
          },
          "execution_count": 28
        }
      ]
    },
    {
      "cell_type": "markdown",
      "metadata": {
        "id": "_WsQUIIT6Jah"
      },
      "source": [
        "#**Splitting the dataset into the Training set and Test set**"
      ]
    },
    {
      "cell_type": "code",
      "metadata": {
        "id": "Cx0SX1ZfkHoT",
        "colab": {
          "base_uri": "https://localhost:8080/",
          "height": 34
        },
        "outputId": "f8044ffe-4ca1-4d98-dbab-6327f94416f4"
      },
      "source": [
        "from sklearn.model_selection import train_test_split\n",
        "X_train, X_test, Y_train, Y_test= train_test_split(X,Y,test_size= 1/3)\n",
        "\n",
        "from sklearn.linear_model import LinearRegression\n",
        "regressor= LinearRegression()\n",
        "regressor.fit(X_train,Y_train)"
      ],
      "execution_count": null,
      "outputs": [
        {
          "output_type": "execute_result",
          "data": {
            "text/plain": [
              "LinearRegression(copy_X=True, fit_intercept=True, n_jobs=None, normalize=False)"
            ]
          },
          "metadata": {
            "tags": []
          },
          "execution_count": 24
        }
      ]
    },
    {
      "cell_type": "markdown",
      "metadata": {
        "id": "asq2GiHL6QBG"
      },
      "source": [
        "#**Plotting Graphs**"
      ]
    },
    {
      "cell_type": "code",
      "metadata": {
        "id": "o8VT1jqRkNkL",
        "colab": {
          "base_uri": "https://localhost:8080/",
          "height": 589
        },
        "outputId": "c707bef8-ae19-4537-f355-ad0dc031ff21"
      },
      "source": [
        "Y_pred= regressor.predict(X_test)\n",
        "plt.scatter(X_train, Y_train, color='cyan')\n",
        "plt.plot(X_train, regressor.predict(X_train), color='black')\n",
        "plt.title('Time Vs Value (Training set)')\n",
        "plt.xlabel('Time',fontsize=18)\n",
        "plt.ylabel('Value',fontsize=18)\n",
        "plt.show()\n",
        "plt.scatter(X_test, Y_test, color='orange')\n",
        "plt.plot(X_test, regressor.predict(X_test), color='black')\n",
        "plt.title('Value Vs Time (Test set)')\n",
        "plt.xlabel('Time',fontsize=18)\n",
        "plt.ylabel('Value',fontsize=18)\n",
        "plt.show()"
      ],
      "execution_count": null,
      "outputs": [
        {
          "output_type": "display_data",
          "data": {
            "image/png": "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
